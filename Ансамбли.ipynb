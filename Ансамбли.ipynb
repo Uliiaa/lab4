{
 "cells": [
  {
   "cell_type": "markdown",
   "id": "3085ec43-34bb-4afb-9515-517e0489db3e",
   "metadata": {},
   "source": [
    "## Ансамбли и полносвязные нейронные сети\n",
    "В этом ноутбуке вам нужно обучить модели на датасете классификации из предыдущего ноутбука и сравнить результаты. Вам будет предоставлен baseline, на основе которого вы будете доделывать предсказывающие модели. Оценка лабы будет зависеть от ROC-AUC на тестовых данных по следующим критериям:\n",
    "\\\n",
    "AUC - на тестовых данных\n",
    "- $AUC \\leq 0.76$ - 0 баллов\n",
    "- $0.76 < AUC \\leq 0.77$ - 2 балла\n",
    "- $0.77 < AUC \\leq 0.78$ - 4 балла\n",
    "- $0.78 < AUC \\leq 0.79$ - 6 баллов\n",
    "- $0.79 < AUC \\leq 0.80$ - 8 баллов\n",
    "- $AUC > 0.80$ - 10 баллов\n"
   ]
  },
  {
   "cell_type": "code",
   "execution_count": 44,
   "id": "ec07e3a2-480a-4350-868e-02679ff2aada",
   "metadata": {
    "tags": []
   },
   "outputs": [
    {
     "name": "stdout",
     "output_type": "stream",
     "text": [
      "Requirement already satisfied: xgboost in c:\\users\\mel\\appdata\\local\\programs\\python\\python310\\lib\\site-packages (2.1.2)\n",
      "Requirement already satisfied: numpy in c:\\users\\mel\\appdata\\local\\programs\\python\\python310\\lib\\site-packages (from xgboost) (2.1.2)\n",
      "Requirement already satisfied: scipy in c:\\users\\mel\\appdata\\local\\programs\\python\\python310\\lib\\site-packages (from xgboost) (1.14.1)\n"
     ]
    },
    {
     "name": "stderr",
     "output_type": "stream",
     "text": [
      "\n",
      "[notice] A new release of pip is available: 24.2 -> 24.3.1\n",
      "[notice] To update, run: python.exe -m pip install --upgrade pip\n"
     ]
    },
    {
     "name": "stdout",
     "output_type": "stream",
     "text": [
      "Requirement already satisfied: imblearn in c:\\users\\mel\\appdata\\local\\programs\\python\\python310\\lib\\site-packages (0.0)\n",
      "Requirement already satisfied: imbalanced-learn in c:\\users\\mel\\appdata\\local\\programs\\python\\python310\\lib\\site-packages (from imblearn) (0.12.4)\n",
      "Requirement already satisfied: numpy>=1.17.3 in c:\\users\\mel\\appdata\\local\\programs\\python\\python310\\lib\\site-packages (from imbalanced-learn->imblearn) (2.1.2)\n",
      "Requirement already satisfied: scipy>=1.5.0 in c:\\users\\mel\\appdata\\local\\programs\\python\\python310\\lib\\site-packages (from imbalanced-learn->imblearn) (1.14.1)\n",
      "Requirement already satisfied: scikit-learn>=1.0.2 in c:\\users\\mel\\appdata\\local\\programs\\python\\python310\\lib\\site-packages (from imbalanced-learn->imblearn) (1.5.2)\n",
      "Requirement already satisfied: joblib>=1.1.1 in c:\\users\\mel\\appdata\\local\\programs\\python\\python310\\lib\\site-packages (from imbalanced-learn->imblearn) (1.4.2)\n",
      "Requirement already satisfied: threadpoolctl>=2.0.0 in c:\\users\\mel\\appdata\\local\\programs\\python\\python310\\lib\\site-packages (from imbalanced-learn->imblearn) (3.5.0)\n"
     ]
    },
    {
     "name": "stderr",
     "output_type": "stream",
     "text": [
      "\n",
      "[notice] A new release of pip is available: 24.2 -> 24.3.1\n",
      "[notice] To update, run: python.exe -m pip install --upgrade pip\n"
     ]
    }
   ],
   "source": [
    "!pip install xgboost\n",
    "!pip install imblearn\n",
    "\n",
    "import pandas as pd\n",
    "import numpy as np\n",
    "import matplotlib.pyplot as plt\n",
    "from sklearn.model_selection import train_test_split\n",
    "from sklearn.metrics import roc_auc_score, precision_score, recall_score, accuracy_score\n",
    "from sklearn.ensemble import RandomForestClassifier, GradientBoostingClassifier\n",
    "from sklearn.neural_network import MLPClassifier\n",
    "from imblearn.over_sampling import SMOTE\n",
    "import optuna\n",
    "from xgboost import XGBClassifier"
   ]
  },
  {
   "cell_type": "code",
   "execution_count": 60,
   "id": "563ad31b-5c83-4366-819a-34dad4edecdc",
   "metadata": {
    "tags": []
   },
   "outputs": [
    {
     "name": "stdout",
     "output_type": "stream",
     "text": [
      "   Creditability  Account_Balance  Duration_of_Credit_monthly  \\\n",
      "0              1                1                          18   \n",
      "1              1                1                           9   \n",
      "2              1                2                          12   \n",
      "3              1                1                          12   \n",
      "4              1                1                          12   \n",
      "\n",
      "   Payment_Status_of_Previous_Credit  Purpose  Credit_Amount  \\\n",
      "0                                  4        2           1049   \n",
      "1                                  4        0           2799   \n",
      "2                                  2        9            841   \n",
      "3                                  4        0           2122   \n",
      "4                                  4        0           2171   \n",
      "\n",
      "   Value_Savings_Stocks  Length_of_current_employment  Instalment_per_cent  \\\n",
      "0                     1                             2                    4   \n",
      "1                     1                             3                    2   \n",
      "2                     2                             4                    2   \n",
      "3                     1                             3                    3   \n",
      "4                     1                             3                    4   \n",
      "\n",
      "   Sex_Marital_Status  ...  Duration_in_Current_address  \\\n",
      "0                   2  ...                            4   \n",
      "1                   3  ...                            2   \n",
      "2                   2  ...                            4   \n",
      "3                   3  ...                            2   \n",
      "4                   3  ...                            4   \n",
      "\n",
      "   Most_valuable_available_asset  Age_years  Concurrent_Credits  \\\n",
      "0                              2         21                   3   \n",
      "1                              1         36                   3   \n",
      "2                              1         23                   3   \n",
      "3                              1         39                   3   \n",
      "4                              2         38                   1   \n",
      "\n",
      "   Type_of_apartment  No_of_Credits_at_this_Bank  Occupation  \\\n",
      "0                  1                           1           3   \n",
      "1                  1                           2           3   \n",
      "2                  1                           1           2   \n",
      "3                  1                           2           2   \n",
      "4                  2                           2           2   \n",
      "\n",
      "   No_of_dependents  Telephone  Foreign_Worker  \n",
      "0                 1          1               1  \n",
      "1                 2          1               1  \n",
      "2                 1          1               1  \n",
      "3                 2          1               2  \n",
      "4                 1          1               2  \n",
      "\n",
      "[5 rows x 21 columns]\n"
     ]
    }
   ],
   "source": [
    "# Загрузка данных\n",
    "data = pd.read_csv('german.csv', sep=';')\n",
    "print(data.head())\n",
    "\n",
    "X = data.iloc[:, 1:].to_numpy()\n",
    "y = data.iloc[:, 0].to_numpy()\n",
    "\n",
    "# Разделение на обучающую и тестовую выборки\n",
    "X_train, X_test, y_train, y_test = train_test_split(X, y, test_size=0.2, random_state=42)"
   ]
  },
  {
   "cell_type": "code",
   "execution_count": 61,
   "id": "f93737ec-e5eb-4d72-8beb-5dba4d4c581f",
   "metadata": {
    "tags": []
   },
   "outputs": [
    {
     "data": {
      "image/png": "[encoded data removed]",
      "text/plain": [
       "<Figure size 640x480 with 1 Axes>"
      ]
     },
     "metadata": {},
     "output_type": "display_data"
    }
   ],
   "source": [
    "plt.hist(y_train, bins=2, edgecolor='k')\n",
    "plt.xticks([0, 1])\n",
    "plt.xlabel('Class (0: Non-Creditworthy, 1: Creditworthy)')\n",
    "plt.ylabel('Count')\n",
    "plt.title('Distribution of Classes in Training Data')\n",
    "plt.show()"
   ]
  },
  {
   "cell_type": "code",
   "execution_count": 62,
   "id": "8955bea2",
   "metadata": {},
   "outputs": [],
   "source": [
    "smote = SMOTE(random_state=42)\n",
    "X_train_resampled, y_train_resampled = smote.fit_resample(X_train, y_train)"
   ]
  },
  {
   "cell_type": "code",
   "execution_count": 223,
   "id": "c1cf8d00-92a3-4b62-bca4-d854b72574d1",
   "metadata": {
    "tags": []
   },
   "outputs": [
    {
     "name": "stdout",
     "output_type": "stream",
     "text": [
      "Random Forest метрики:\n",
      "ROC AUC: 0.81\n",
      "Accuracy: 0.79\n",
      "Precision: 0.83\n",
      "Recall: 0.87\n"
     ]
    }
   ],
   "source": [
    "# Обучение Random Forest\n",
    "rf_model = RandomForestClassifier(n_estimators=300, random_state=200)\n",
    "rf_model.fit(X_train_resampled, y_train_resampled)\n",
    "\n",
    "# Прогноз на тестовых данных\n",
    "rf_pred = rf_model.predict(X_test)\n",
    "rf_pred_proba = rf_model.predict_proba(X_test)[:, 1]\n",
    "\n",
    "# Расчет метрик для Random Forest\n",
    "rf_roc_auc = roc_auc_score(y_test, rf_pred_proba)\n",
    "rf_accuracy = accuracy_score(y_test, rf_pred)\n",
    "rf_precision = precision_score(y_test, rf_pred)\n",
    "rf_recall = recall_score(y_test, rf_pred)\n",
    "\n",
    "print(\"Random Forest метрики:\")\n",
    "print(f\"ROC AUC: {rf_roc_auc:.2f}\")\n",
    "print(f\"Accuracy: {rf_accuracy:.2f}\")\n",
    "print(f\"Precision: {rf_precision:.2f}\")\n",
    "print(f\"Recall: {rf_recall:.2f}\")"
   ]
  },
  {
   "cell_type": "code",
   "execution_count": 406,
   "id": "ae1e040c-ddd0-4952-9dcb-58c1226da40a",
   "metadata": {
    "tags": []
   },
   "outputs": [
    {
     "name": "stdout",
     "output_type": "stream",
     "text": [
      "Gradient Boosting метрики:\n",
      "ROC AUC: 0.80\n",
      "Accuracy: 0.79\n",
      "Precision: 0.86\n",
      "Recall: 0.83\n"
     ]
    }
   ],
   "source": [
    "# Обучение Gradient Boosting\n",
    "#gb_model = GradientBoostingClassifier(n_estimators=100, random_state=15, min_samples_leaf=2, max_features=8)0,795\n",
    "gb_model = GradientBoostingClassifier(n_estimators=109, random_state=15, min_samples_leaf=2, max_features=8)\n",
    "gb_model.fit(X_train_resampled, y_train_resampled)\n",
    "\n",
    "# Прогноз на тестовых данных\n",
    "gb_pred = gb_model.predict(X_test)\n",
    "gb_pred_proba = gb_model.predict_proba(X_test)[:, 1]\n",
    "\n",
    "# Расчет метрик для Gradient Boosting\n",
    "gb_roc_auc = roc_auc_score(y_test, gb_pred_proba)\n",
    "gb_accuracy = accuracy_score(y_test, gb_pred)\n",
    "gb_precision = precision_score(y_test, gb_pred)\n",
    "gb_recall = recall_score(y_test, gb_pred)\n",
    "\n",
    "print(\"Gradient Boosting метрики:\")\n",
    "print(f\"ROC AUC: {gb_roc_auc:.2f}\")\n",
    "print(f\"Accuracy: {gb_accuracy:.2f}\")\n",
    "print(f\"Precision: {gb_precision:.2f}\")\n",
    "print(f\"Recall: {gb_recall:.2f}\")"
   ]
  },
  {
   "cell_type": "code",
   "execution_count": 445,
   "id": "6ed9f7cb",
   "metadata": {},
   "outputs": [
    {
     "name": "stdout",
     "output_type": "stream",
     "text": [
      "MLP (Neural Network) метрики:\n",
      "ROC AUC: 0.78\n",
      "Accuracy: 0.74\n",
      "Precision: 0.85\n",
      "Recall: 0.76\n"
     ]
    },
    {
     "name": "stderr",
     "output_type": "stream",
     "text": [
      "c:\\Users\\Mel\\AppData\\Local\\Programs\\Python\\Python310\\lib\\site-packages\\sklearn\\neural_network\\_multilayer_perceptron.py:690: ConvergenceWarning: Stochastic Optimizer: Maximum iterations (33) reached and the optimization hasn't converged yet.\n",
      "  warnings.warn(\n"
     ]
    }
   ],
   "source": [
    "# Обучение MLP (Multi-Layer Perceptron) нейронной сети\n",
    "mlp_model = MLPClassifier(random_state=71, hidden_layer_sizes=(18,), max_iter=33, batch_size=45)\n",
    "mlp_model.fit(X_train_resampled, y_train_resampled)\n",
    "\n",
    "# Прогноз на тестовых данных\n",
    "mlp_pred = mlp_model.predict(X_test)\n",
    "mlp_pred_proba = mlp_model.predict_proba(X_test)[:, 1]\n",
    "\n",
    "# Расчет метрик для MLP нейронной сети\n",
    "mlp_roc_auc = roc_auc_score(y_test, mlp_pred_proba)\n",
    "mlp_accuracy = accuracy_score(y_test, mlp_pred)\n",
    "mlp_precision = precision_score(y_test, mlp_pred)\n",
    "mlp_recall = recall_score(y_test, mlp_pred)\n",
    "\n",
    "print(\"MLP (Neural Network) метрики:\")\n",
    "print(f\"ROC AUC: {mlp_roc_auc:.2f}\")\n",
    "print(f\"Accuracy: {mlp_accuracy:.2f}\")\n",
    "print(f\"Precision: {mlp_precision:.2f}\")\n",
    "print(f\"Recall: {mlp_recall:.2f}\")"
   ]
  },
  {
   "cell_type": "code",
   "execution_count": 218,
   "id": "bbf3dd37",
   "metadata": {},
   "outputs": [
    {
     "name": "stdout",
     "output_type": "stream",
     "text": [
      "Лучшие параметры для Random Forest:\n",
      "{'n_estimators': 153, 'random_state': None}\n",
      "Лучший ROC AUC: 0.79\n",
      "ROC AUC на тестовых данных: 0.67\n"
     ]
    },
    {
     "name": "stderr",
     "output_type": "stream",
     "text": [
      "c:\\Users\\Mel\\AppData\\Local\\Programs\\Python\\Python310\\lib\\site-packages\\numpy\\ma\\core.py:2881: RuntimeWarning: invalid value encountered in cast\n",
      "  _data = np.array(data, dtype=dtype, copy=copy,\n"
     ]
    },
    {
     "name": "stdout",
     "output_type": "stream",
     "text": [
      "Лучшие параметры для Gradient Boosting:\n",
      "{'max_features': 10, 'min_samples_leaf': 2, 'n_estimators': 100, 'random_state': 15}\n",
      "Лучший ROC AUC: 0.80\n",
      "ROC AUC на тестовых данных: 0.70\n"
     ]
    },
    {
     "name": "stderr",
     "output_type": "stream",
     "text": [
      "c:\\Users\\Mel\\AppData\\Local\\Programs\\Python\\Python310\\lib\\site-packages\\sklearn\\model_selection\\_validation.py:540: FitFailedWarning: \n",
      "640 fits failed out of a total of 3840.\n",
      "The score on these train-test partitions for these parameters will be set to nan.\n",
      "If these failures are not expected, you can try to debug them by setting error_score='raise'.\n",
      "\n",
      "Below are more details about the failures:\n",
      "--------------------------------------------------------------------------------\n",
      "640 fits failed with the following error:\n",
      "Traceback (most recent call last):\n",
      "  File \"c:\\Users\\Mel\\AppData\\Local\\Programs\\Python\\Python310\\lib\\site-packages\\sklearn\\model_selection\\_validation.py\", line 888, in _fit_and_score\n",
      "    estimator.fit(X_train, y_train, **fit_params)\n",
      "  File \"c:\\Users\\Mel\\AppData\\Local\\Programs\\Python\\Python310\\lib\\site-packages\\sklearn\\base.py\", line 1466, in wrapper\n",
      "    estimator._validate_params()\n",
      "  File \"c:\\Users\\Mel\\AppData\\Local\\Programs\\Python\\Python310\\lib\\site-packages\\sklearn\\base.py\", line 666, in _validate_params\n",
      "    validate_parameter_constraints(\n",
      "  File \"c:\\Users\\Mel\\AppData\\Local\\Programs\\Python\\Python310\\lib\\site-packages\\sklearn\\utils\\_param_validation.py\", line 95, in validate_parameter_constraints\n",
      "    raise InvalidParameterError(\n",
      "sklearn.utils._param_validation.InvalidParameterError: The 'max_iter' parameter of MLPClassifier must be an int in the range [1, inf). Got 71.0 instead.\n",
      "\n",
      "  warnings.warn(some_fits_failed_message, FitFailedWarning)\n",
      "c:\\Users\\Mel\\AppData\\Local\\Programs\\Python\\Python310\\lib\\site-packages\\sklearn\\model_selection\\_search.py:1103: UserWarning: One or more of the test scores are non-finite: [0.6586616  0.65539617 0.67714473 0.64904122 0.64150257 0.66996397\n",
      " 0.69558503 0.63991381 0.64150257 0.64263608 0.64506419 0.63991381\n",
      " 0.64150257 0.64006911 0.65629931 0.63991381 0.64150257 0.64006911\n",
      " 0.65629931 0.63991381        nan        nan        nan        nan\n",
      " 0.63849679 0.66786334 0.65298563 0.64091534 0.63849679 0.67057912\n",
      " 0.65298563 0.64438934 0.63849679 0.67057912 0.65298563 0.64438934\n",
      " 0.63849679 0.67057912 0.65298563 0.64438934 0.63849679 0.67057912\n",
      " 0.65298563 0.64438934        nan        nan        nan        nan\n",
      " 0.68890265 0.65754698 0.70491021 0.62103132 0.63982129 0.65941971\n",
      " 0.65187822 0.62535359 0.62510775 0.61444203 0.69389831 0.64632893\n",
      " 0.62510775 0.65956852 0.69389831 0.64632893 0.62510775 0.65956852\n",
      " 0.69389831 0.64632893        nan        nan        nan        nan\n",
      " 0.63088593 0.7240576  0.64742267 0.67212534 0.59978068 0.72498766\n",
      " 0.6188226  0.66056014 0.60765114 0.72498766 0.58015072 0.66089906\n",
      " 0.60765114 0.72498766 0.58015072 0.66089906 0.60765114 0.72498766\n",
      " 0.58015072 0.66089906        nan        nan        nan        nan\n",
      " 0.75002791 0.63885976 0.58923842 0.65930401 0.71858446 0.64334103\n",
      " 0.62384662 0.70295681 0.71858446 0.64334103 0.62384662 0.70295681\n",
      " 0.71858446 0.64334103 0.62384662 0.70295681 0.71858446 0.64334103\n",
      " 0.62384662 0.70295681        nan        nan        nan        nan\n",
      " 0.66430379 0.66861385 0.70214475 0.61018576 0.64965194 0.62887619\n",
      " 0.70881016 0.69029911 0.66550583 0.6416366  0.70267196 0.69029911\n",
      " 0.66550583 0.6416366  0.70267196 0.69029911 0.66550583 0.6416366\n",
      " 0.70267196 0.69029911        nan        nan        nan        nan\n",
      " 0.62465867 0.68899724 0.70797656 0.61835135 0.63134347 0.66788489\n",
      " 0.67181584 0.62273847 0.67500046 0.66788489 0.674234   0.61343702\n",
      " 0.67500046 0.66788489 0.674234   0.61343702 0.67500046 0.66788489\n",
      " 0.674234   0.61343702        nan        nan        nan        nan\n",
      " 0.69097186 0.67115732 0.61054525 0.65316775 0.68184546 0.70966022\n",
      " 0.66077552 0.69239537 0.71183057 0.70966022 0.66077552 0.67983442\n",
      " 0.71183057 0.70966022 0.66077552 0.67983442 0.71183057 0.70966022\n",
      " 0.66077552 0.67983442        nan        nan        nan        nan\n",
      " 0.68430894 0.64147464 0.64282632 0.69626102 0.67169733 0.61507956\n",
      " 0.64614657 0.68717492 0.66890715 0.5860245  0.66053181 0.734759\n",
      " 0.66890715 0.5860245  0.66053181 0.734759   0.66890715 0.5860245\n",
      " 0.66053181 0.734759          nan        nan        nan        nan\n",
      " 0.66991499 0.70027526 0.63242606 0.59864861 0.66215724 0.72579837\n",
      " 0.62792769 0.64831379 0.68260536 0.73231315 0.65676661 0.59745813\n",
      " 0.68260536 0.72011206 0.65957826 0.59435173 0.68260536 0.72011206\n",
      " 0.65957826 0.59435173        nan        nan        nan        nan\n",
      " 0.64393065 0.69921616 0.6748581  0.62023307 0.65769553 0.7044989\n",
      " 0.7056443  0.62023307 0.63626696 0.7044989  0.71420084 0.62023307\n",
      " 0.63626696 0.7044989  0.70501186 0.62023307 0.63626696 0.7044989\n",
      " 0.70501186 0.62023307        nan        nan        nan        nan\n",
      " 0.69047274 0.63001925 0.57411657 0.6347687  0.64791322 0.65732108\n",
      " 0.60447371 0.62639439 0.64791322 0.65732108 0.60447371 0.582942\n",
      " 0.64791322 0.65732108 0.60447371 0.582942   0.64791322 0.65732108\n",
      " 0.60447371 0.582942          nan        nan        nan        nan\n",
      " 0.69234254 0.62931487 0.64711987 0.61027883 0.66201376 0.62548303\n",
      " 0.69063077 0.63618132 0.67417893 0.62548303 0.70392394 0.63618132\n",
      " 0.67417893 0.62548303 0.70414988 0.63618132 0.67417893 0.62548303\n",
      " 0.70414988 0.63618132        nan        nan        nan        nan\n",
      " 0.66346875 0.66725897 0.66420765 0.61531596 0.63638541 0.68224349\n",
      " 0.66585484 0.61025191 0.63638541 0.66646968 0.66585484 0.64730224\n",
      " 0.63638541 0.68856789 0.66585484 0.64730224 0.63638541 0.68856789\n",
      " 0.66585484 0.64730224        nan        nan        nan        nan\n",
      " 0.65521238 0.65322231 0.67139633 0.62268012 0.63276971 0.64544701\n",
      " 0.62318204 0.66177982 0.63276971 0.64544701 0.65510169 0.61624411\n",
      " 0.63276971 0.64544701 0.65510169 0.6442203  0.63276971 0.64544701\n",
      " 0.65510169 0.6442203         nan        nan        nan        nan\n",
      " 0.65476444 0.61892338 0.67011877 0.57727868 0.64380281 0.63220463\n",
      " 0.63121837 0.57727868 0.62079396 0.63220463 0.63121837 0.57727868\n",
      " 0.63834244 0.63220463 0.63121837 0.57727868 0.63834244 0.63220463\n",
      " 0.63121837 0.57727868        nan        nan        nan        nan\n",
      " 0.62250805 0.67349598 0.62780293 0.69359996 0.63034746 0.67425042\n",
      " 0.63812825 0.6836493  0.63034746 0.68535944 0.66599494 0.6836493\n",
      " 0.63034746 0.66943023 0.66599494 0.6836493  0.63034746 0.66943023\n",
      " 0.66599494 0.6836493         nan        nan        nan        nan\n",
      " 0.58874899 0.6452422  0.62842659 0.66854578 0.56485309 0.66603325\n",
      " 0.65089565 0.61485162 0.56485309 0.66603325 0.64267393 0.6240406\n",
      " 0.56485309 0.66603325 0.64267393 0.6240406  0.56485309 0.66603325\n",
      " 0.64267393 0.6240406         nan        nan        nan        nan\n",
      " 0.66153743 0.64132396 0.68975754 0.66535626 0.68387536 0.65028556\n",
      " 0.69955119 0.68179971 0.69263587 0.65028556 0.70086921 0.68179971\n",
      " 0.69263587 0.65028556 0.70086921 0.68179971 0.69263587 0.65028556\n",
      " 0.70086921 0.68179971        nan        nan        nan        nan\n",
      " 0.64701009 0.55019093 0.6539099  0.57415108 0.65336419 0.65171623\n",
      " 0.65599323 0.65592679 0.65336419 0.65171623 0.65599323 0.65592679\n",
      " 0.65336419 0.65171623 0.65599323 0.65592679 0.65336419 0.65171623\n",
      " 0.65599323 0.65592679        nan        nan        nan        nan\n",
      " 0.64706367 0.60073094 0.57063033 0.61585886 0.62392379 0.65907544\n",
      " 0.60765757 0.65743676 0.62392379 0.65280958 0.60765757 0.65743676\n",
      " 0.62392379 0.65376747 0.60765757 0.65743676 0.62392379 0.65376747\n",
      " 0.60765757 0.65743676        nan        nan        nan        nan\n",
      " 0.61489983 0.64289754 0.63093601 0.57647808 0.58394745 0.60564914\n",
      " 0.65766908 0.65212794 0.58394745 0.60333121 0.65394885 0.66916663\n",
      " 0.58394745 0.60333121 0.65394885 0.66916663 0.58394745 0.60333121\n",
      " 0.65394885 0.66916663        nan        nan        nan        nan\n",
      " 0.64212088 0.67114781 0.64362273 0.59393781 0.6580807  0.64441453\n",
      " 0.60826427 0.57500711 0.6580807  0.62771334 0.62086048 0.57500711\n",
      " 0.6580807  0.62771334 0.62086048 0.57500711 0.6580807  0.62771334\n",
      " 0.62086048 0.57500711        nan        nan        nan        nan\n",
      " 0.63441374 0.62274104 0.62643247 0.61289036 0.66458487 0.65334442\n",
      " 0.56262232 0.64812101 0.66458487 0.67705367 0.63940507 0.63975047\n",
      " 0.66458487 0.67705367 0.63940507 0.65068797 0.66458487 0.67705367\n",
      " 0.63940507 0.65068797        nan        nan        nan        nan\n",
      " 0.56188788 0.57979845 0.57980882 0.54178291 0.57514348 0.61999398\n",
      " 0.5558783  0.55439452 0.57514348 0.63245867 0.64274577 0.55439452\n",
      " 0.57514348 0.63245867 0.64274577 0.55439452 0.57514348 0.63245867\n",
      " 0.64274577 0.55439452        nan        nan        nan        nan\n",
      " 0.59768731 0.61462739 0.61880403 0.62600378 0.56192555 0.67907197\n",
      " 0.53999358 0.60469997 0.56192555 0.61587258 0.54152573 0.60469997\n",
      " 0.56192555 0.62681008 0.54308823 0.60469997 0.56192555 0.62681008\n",
      " 0.54308823 0.60469997        nan        nan        nan        nan\n",
      " 0.62213664 0.59680955 0.55381377 0.5559071  0.65123658 0.60742686\n",
      " 0.55880823 0.57886097 0.65123658 0.60742686 0.6004749  0.57886097\n",
      " 0.65123658 0.60742686 0.6004749  0.57886097 0.65123658 0.60742686\n",
      " 0.6004749  0.57886097        nan        nan        nan        nan\n",
      " 0.58434931 0.61573052 0.54628062 0.55438332 0.62558449 0.60253128\n",
      " 0.54628062 0.5967607  0.62558449 0.60253128 0.54628062 0.5967607\n",
      " 0.62558449 0.60253128 0.54628062 0.5967607  0.62558449 0.60253128\n",
      " 0.54628062 0.5967607         nan        nan        nan        nan\n",
      " 0.53567553 0.60654349 0.5800316  0.57454039 0.62824018 0.61500169\n",
      " 0.58753736 0.61794081 0.58463257 0.5996371  0.61298868 0.60823514\n",
      " 0.58463257 0.58386329 0.63017618 0.59704411 0.58463257 0.58386329\n",
      " 0.63017618 0.56731941        nan        nan        nan        nan\n",
      " 0.56503832 0.63243896 0.52677414 0.63203097 0.54342797 0.63896239\n",
      " 0.60289141 0.64598644 0.54342797 0.63864967 0.60289141 0.64598644\n",
      " 0.54342797 0.6155842  0.60289141 0.64598644 0.54342797 0.6250708\n",
      " 0.60289141 0.64598644        nan        nan        nan        nan\n",
      " 0.62700305 0.59187399 0.54652389 0.58991836 0.63454954 0.63647964\n",
      " 0.56413068 0.59434545 0.62750647 0.6279603  0.59128842 0.59434545\n",
      " 0.62750647 0.60344393 0.58767979 0.59434545 0.62750647 0.60344393\n",
      " 0.58767979 0.59434545        nan        nan        nan        nan\n",
      " 0.60273027 0.54499203 0.60754989 0.58344652 0.60273027 0.54499203\n",
      " 0.69132299 0.60996003 0.60273027 0.54499203 0.6627408  0.60996003\n",
      " 0.60273027 0.54499203 0.6627408  0.60996003 0.60273027 0.54499203\n",
      " 0.6627408  0.60996003        nan        nan        nan        nan]\n",
      "  warnings.warn(\n"
     ]
    },
    {
     "name": "stdout",
     "output_type": "stream",
     "text": [
      "nЛучшие параметры для MLP:\n",
      "{'batch_size': 21, 'hidden_layer_sizes': (150,), 'max_iter': 25, 'random_state': 120}\n",
      "Лучший ROC AUC: 0.75\n",
      "ROC AUC на тестовых данных: 0.50\n"
     ]
    }
   ],
   "source": [
    "from sklearn.model_selection import GridSearchCV\n",
    "\n",
    "# Оптимизация гиперпараметров для Random Forest\n",
    "rf_param_grid = {\n",
    "    'n_estimators': [50, 55, 60, 100, 150, 151, 153, 200, 250, 300, 350],\n",
    "    'random_state': [None, 10, 20, 30, 40, 50, 60, 70, 100, 150],\n",
    "}\n",
    "\n",
    "rf_grid_search = GridSearchCV(RandomForestClassifier(random_state=42), rf_param_grid, \n",
    "                               scoring='roc_auc', cv=5, n_jobs=-1)\n",
    "rf_grid_search.fit(X_train, y_train)\n",
    "\n",
    "print(\"Лучшие параметры для Random Forest:\")\n",
    "print(rf_grid_search.best_params_)\n",
    "print(f\"Лучший ROC AUC: {rf_grid_search.best_score_:.2f}\")\n",
    "\n",
    "# Обучение модели с оптимизированными параметрами\n",
    "rf_best_model = rf_grid_search.best_estimator_\n",
    "rf_best_pred = rf_best_model.predict(X_test)\n",
    "\n",
    "# Расчет метрик для лучшей модели Random Forest\n",
    "rf_best_roc_auc = roc_auc_score(y_test, rf_best_pred)\n",
    "print(f\"ROC AUC на тестовых данных: {rf_best_roc_auc:.2f}\")\n",
    "\n",
    "# Оптимизация гиперпараметров для Gradient Boosting\n",
    "gb_param_grid = {\n",
    "    'n_estimators': [50, 100, 200, 300],\n",
    "    'max_features': [2, 4, 6, 8, 10],\n",
    "    'random_state': [10, 15, 20, 25, 30, 35],\n",
    "    'min_samples_leaf': [1, 2]\n",
    "}\n",
    "\n",
    "gb_grid_search = GridSearchCV(GradientBoostingClassifier(random_state=42), gb_param_grid,\n",
    "                               scoring='roc_auc', cv=5, n_jobs=-1)\n",
    "gb_grid_search.fit(X_train, y_train)\n",
    "\n",
    "print(\"Лучшие параметры для Gradient Boosting:\")\n",
    "print(gb_grid_search.best_params_)\n",
    "print(f\"Лучший ROC AUC: {gb_grid_search.best_score_:.2f}\")\n",
    "\n",
    "# Обучение модели с оптимизированными параметрами\n",
    "gb_best_model = gb_grid_search.best_estimator_\n",
    "gb_best_pred = gb_best_model.predict(X_test)\n",
    "\n",
    "# Расчет метрик для лучшей модели Gradient Boosting\n",
    "gb_best_roc_auc = roc_auc_score(y_test, gb_best_pred)\n",
    "print(f\"ROC AUC на тестовых данных: {gb_best_roc_auc:.2f}\")\n",
    "\n",
    "# Оптимизация гиперпараметров для MLP\n",
    "mlp_param_grid = {\n",
    "    'hidden_layer_sizes': [(150,), (200,), (250,), (270,)],\n",
    "    'random_state': [120, 140, 160, 180],\n",
    "    'max_iter': [25, 35, 45, 55, 65, 71. ],\n",
    "    'batch_size': [11, 21, 31, 41, 50, 70, 91, 103],\n",
    "}\n",
    "\n",
    "mlp_grid_search = GridSearchCV(MLPClassifier(max_iter=500, random_state=42), mlp_param_grid,\n",
    "                                scoring='roc_auc', cv=5, n_jobs=-1)\n",
    "mlp_grid_search.fit(X_train, y_train)\n",
    "\n",
    "print(\"nЛучшие параметры для MLP:\")\n",
    "print(mlp_grid_search.best_params_)\n",
    "print(f\"Лучший ROC AUC: {mlp_grid_search.best_score_:.2f}\")\n",
    "\n",
    "# Обучение модели с оптимизированными параметрами\n",
    "mlp_best_model = mlp_grid_search.best_estimator_\n",
    "mlp_best_pred = mlp_best_model.predict(X_test)\n",
    "\n",
    "# Расчет метрик для лучшей модели MLP\n",
    "mlp_best_roc_auc = roc_auc_score(y_test, mlp_best_pred)\n",
    "print(f\"ROC AUC на тестовых данных: {mlp_best_roc_auc:.2f}\")\n"
   ]
  },
  {
   "cell_type": "markdown",
   "id": "d2d6eb00-77fd-40dc-a3c5-35c1fe0200c0",
   "metadata": {},
   "source": [
    "## Экспериментируйте\n",
    "Для получения лучшего качества придется поэкспериментировать. Подсказка: попробуйте оптимизировать гиперпараметры модели"
   ]
  }
 ],
 "metadata": {
  "kernelspec": {
   "display_name": "Python 3 (ipykernel)",
   "language": "python",
   "name": "python3"
  },
  "language_info": {
   "codemirror_mode": {
    "name": "ipython",
    "version": 3
   },
   "file_extension": ".py",
   "mimetype": "text/x-python",
   "name": "python",
   "nbconvert_exporter": "python",
   "pygments_lexer": "ipython3",
   "version": "3.10.8"
  }
 },
 "nbformat": 4,
 "nbformat_minor": 5
}
